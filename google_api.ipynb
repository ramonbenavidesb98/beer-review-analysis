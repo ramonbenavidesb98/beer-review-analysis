{
 "cells": [
  {
   "cell_type": "code",
   "execution_count": null,
   "metadata": {},
   "outputs": [],
   "source": [
    "import pandas as pd\n",
    "import googlemaps\n",
    "import time\n",
    "\n",
    "gmaps = googlemaps.Client(key='YOUR_API_KEY_HERE')"
   ]
  },
  {
   "cell_type": "code",
   "execution_count": null,
   "metadata": {},
   "outputs": [],
   "source": [
    "# Load dataset\n",
    "df = pd.read_csv('beer_reviews.csv')\n",
    "\n",
    "# Get unique brewery names and save them to a CSV file\n",
    "unique_breweries = df['brewery_name'].unique()\n",
    "unique_breweries_df = pd.DataFrame(unique_breweries, columns=['brewery_name'])\n",
    "unique_breweries_df.to_csv('unique_breweries.csv', index=False)"
   ]
  },
  {
   "cell_type": "code",
   "execution_count": null,
   "metadata": {},
   "outputs": [],
   "source": [
    "# Read the unique breweries file\n",
    "unique_breweries_df = pd.read_csv('unique_breweries.csv')\n",
    "\n",
    "# Define the chunk size\n",
    "chunk_size = 500\n",
    "\n",
    "# Split the DataFrame into smaller chunks and save them as separate CSVs \n",
    "for i in range(0, len(unique_breweries_df), chunk_size):\n",
    "    chunk = unique_breweries_df[i:i+chunk_size]\n",
    "    chunk.to_csv(f'brewery_chunk_{i // chunk_size + 1}.csv', index=False)"
   ]
  },
  {
   "cell_type": "code",
   "execution_count": null,
   "metadata": {},
   "outputs": [],
   "source": [
    "def get_lat_lng(brewery_name):\n",
    "  try:\n",
    "    result = gmaps.places(query=brewery_name) \n",
    "\n",
    "    if result['results']:  \n",
    "      location = result['results'][0]['geometry']['location']\n",
    "      return location['lat'], location['lng'] \n",
    "    else:\n",
    "      return None, None  \n",
    "\n",
    "  except Exception as e:\n",
    "    print(f\"Error processing {brewery_name}: {e}\")\n",
    "    return None, None "
   ]
  },
  {
   "cell_type": "code",
   "execution_count": null,
   "metadata": {},
   "outputs": [],
   "source": [
    "# Variables for API request management\n",
    "requests_made = 0\n",
    "max_requests_per_minute = 90 \n",
    "\n",
    "def process_brewery_chunk(chunk_file):\n",
    "  chunk_df = pd.read_csv(chunk_file)\n",
    "  brewery_coords = {}\n",
    "\n",
    "  for i, brewery in enumerate(chunk_df['brewery_name']):\n",
    "    lat, lng = get_lat_lng(brewery)\n",
    "    brewery_coords[brewery] = (lat, lng)\n",
    "    print(f\"Processed {i+1}/{len(chunk_df)}: {brewery} - Lat: {lat}, Lng: {lng}\")\n",
    "\n",
    "    # API Request Management\n",
    "    global requests_made\n",
    "    requests_made += 1\n",
    "\n",
    "    if requests_made >= max_requests_per_minute:\n",
    "      print(\"Reached the maximum number of requests per minute. Sleeping for 60 seconds.\")\n",
    "      time.sleep(60)\n",
    "      requests_made = 0\n",
    "\n",
    "  return brewery_coords"
   ]
  },
  {
   "cell_type": "code",
   "execution_count": null,
   "metadata": {},
   "outputs": [],
   "source": [
    "def process_chunk():\n",
    "    try:\n",
    "        chunk_file_name = input(\"Enter the name of the chunk file to process: \") \n",
    "\n",
    "        brewery_coords = process_brewery_chunk(chunk_file_name) \n",
    "\n",
    "        coord_df = pd.DataFrame.from_dict(brewery_coords, orient='index', columns=['latitude', 'longitude'])\n",
    "        coord_df.reset_index(inplace=True)\n",
    "        coord_df.rename(columns={'index': 'brewery_name'}, inplace=True)\n",
    "\n",
    "        output_filename = chunk_file_name.replace('brewery_chunk_', 'chunk_') + '_coordinates.csv'\n",
    "        coord_df.to_csv(output_filename, index=False)\n",
    "\n",
    "        print(\"Chunk processing complete! Coordinates saved.\")\n",
    "\n",
    "    except Exception as e:\n",
    "        print(f\"An error occurred: {e}\")\n",
    "\n",
    "# Call the function to process chunks\n",
    "process_chunk()"
   ]
  }
 ],
 "metadata": {
  "kernelspec": {
   "display_name": "venv",
   "language": "python",
   "name": "python3"
  },
  "language_info": {
   "codemirror_mode": {
    "name": "ipython",
    "version": 3
   },
   "file_extension": ".py",
   "mimetype": "text/x-python",
   "name": "python",
   "nbconvert_exporter": "python",
   "pygments_lexer": "ipython3",
   "version": "3.12.0"
  }
 },
 "nbformat": 4,
 "nbformat_minor": 2
}
