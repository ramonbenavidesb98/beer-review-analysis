{
 "cells": [
  {
   "cell_type": "code",
   "execution_count": null,
   "metadata": {},
   "outputs": [],
   "source": [
    "import pandas as pd\n",
    "\n",
    "# Load the original dataset\n",
    "original_df = pd.read_csv('beer_reviews.csv')\n",
    "\n",
    "# Make a copy of the original dataset\n",
    "updated_df = original_df.copy()\n",
    "\n",
    "# Combine all chunks containing brewery coordinates into one DataFrame\n",
    "chunks = [] \n",
    "chunk_files = [f'chunk_{i+1}.csv_coordinates.csv' for i in range(12)]  \n",
    "\n",
    "for file in chunk_files:\n",
    "    chunk_df = pd.read_csv(file)\n",
    "    chunks.append(chunk_df)\n",
    "\n",
    "combined_chunks_df = pd.concat(chunks, ignore_index=True)\n",
    "\n",
    "# Count the number of unique breweries without coordinates\n",
    "breweries_without_coords = combined_chunks_df[combined_chunks_df['latitude'].isnull() & combined_chunks_df['longitude'].isnull()]\n",
    "unique_breweries_without_coords = breweries_without_coords['brewery_name'].nunique()\n",
    "\n",
    "print(f\"Number of unique breweries without coordinates: {unique_breweries_without_coords}\")\n",
    "\n",
    "# Merge the combined chunks DataFrame with the copy of the original dataset\n",
    "updated_df = pd.merge(updated_df, combined_chunks_df, on='brewery_name', how='left')\n",
    "\n",
    "# Save the updated dataset to a new CSV file\n",
    "updated_df.to_csv('beer_reviews_with_coordinates.csv', index=False)\n",
    "\n",
    "print(\"Updated dataset saved as 'beer_reviews_with_coordinates.csv'\")\n"
   ]
  }
 ],
 "metadata": {
  "kernelspec": {
   "display_name": "Python 3",
   "language": "python",
   "name": "python3"
  },
  "language_info": {
   "codemirror_mode": {
    "name": "ipython",
    "version": 3
   },
   "file_extension": ".py",
   "mimetype": "text/x-python",
   "name": "python",
   "nbconvert_exporter": "python",
   "pygments_lexer": "ipython3",
   "version": "3.10.13"
  }
 },
 "nbformat": 4,
 "nbformat_minor": 2
}
